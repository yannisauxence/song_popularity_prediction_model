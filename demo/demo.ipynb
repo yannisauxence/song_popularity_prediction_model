{
 "cells": [
  {
   "cell_type": "code",
   "execution_count": 1,
   "metadata": {},
   "outputs": [],
   "source": [
    "import numpy as np\n",
    "import pandas as pd\n",
    "import torch\n",
    "from sklearn.preprocessing import StandardScaler\n",
    "import matplotlib.pyplot as plt\n",
    "import seaborn as sns\n",
    "import sys\n",
    "sys.path.insert(0, '../src')\n",
    "from model import PopularityMLP,PopularityRegression\n"
   ]
  },
  {
   "cell_type": "code",
   "execution_count": 85,
   "metadata": {},
   "outputs": [],
   "source": []
  },
  {
   "cell_type": "code",
   "execution_count": 107,
   "metadata": {},
   "outputs": [
    {
     "data": {
      "text/plain": [
       "PopularityMLP(\n",
       "  (layer1): Linear(in_features=14, out_features=11, bias=True)\n",
       "  (layer2): Linear(in_features=11, out_features=7, bias=True)\n",
       "  (layer3): Linear(in_features=7, out_features=3, bias=True)\n",
       "  (layer4): Linear(in_features=3, out_features=1, bias=True)\n",
       "  (activation): Sigmoid()\n",
       ")"
      ]
     },
     "execution_count": 107,
     "metadata": {},
     "output_type": "execute_result"
    }
   ],
   "source": [
    "modelA = PopularityMLP(input_dim = 14, output_dim = 1, hidden1_dim = 11, hidden2_dim = 7, hidden3_dim=3)\n",
    "modelB = PopularityMLP(input_dim = 14, output_dim = 1, hidden1_dim = 11, hidden2_dim = 7, hidden3_dim=3)\n",
    "modelC = PopularityRegression(input_dim = 14, output_dim = 1)\n",
    "optimizerA = torch.optim.Adam(modelA.parameters(), lr = 0.001)\n",
    "optimizerB = torch.optim.Adam(modelB.parameters(), lr = 0.001)\n",
    "optimizerC = torch.optim.Adam(modelC.parameters(), lr = 0.01)\n",
    "\n",
    "checkpoint = torch.load('../checkpoint/models.tar' , weights_only=True)\n",
    "modelA.load_state_dict(checkpoint['model1_state_dict'])\n",
    "modelB.load_state_dict(checkpoint['model2_state_dict'])\n",
    "modelC.load_state_dict(checkpoint['model3_state_dict'])\n",
    "optimizerA.load_state_dict(checkpoint['optimizer1_state_dict'])\n",
    "optimizerB.load_state_dict(checkpoint['optimizer2_state_dict'])\n",
    "optimizerC.load_state_dict(checkpoint['optimizer3_state_dict'])\n",
    "\n",
    "modelA.eval()\n",
    "modelB.eval()\n"
   ]
  },
  {
   "cell_type": "code",
   "execution_count": 108,
   "metadata": {},
   "outputs": [
    {
     "data": {
      "text/plain": [
       "PopularityRegression(\n",
       "  (linear): Linear(in_features=14, out_features=1, bias=True)\n",
       "  (activation): Sigmoid()\n",
       ")"
      ]
     },
     "execution_count": 108,
     "metadata": {},
     "output_type": "execute_result"
    }
   ],
   "source": [
    "modelC.eval()"
   ]
  },
  {
   "cell_type": "code",
   "execution_count": 109,
   "metadata": {},
   "outputs": [
    {
     "name": "stdout",
     "output_type": "stream",
     "text": [
      "[ 1.5828148   0.2137468   0.2206859  -0.69475365  1.0491041  -0.18236966\n",
      " -1.4663074   1.8838958  -0.4994954   0.16782185 -0.1855914  -0.74721366\n",
      "  1.5734206   1.5696237 ]\n",
      "torch.Size([1000, 14])\n"
     ]
    }
   ],
   "source": [
    "test = np.load('spotify_testing_data.npy')\n",
    "print(test[0])\n",
    "test = torch.from_numpy(test).float()\n",
    "with torch.no_grad():\n",
    "    test_output1 = np.save('../results/model_1_predictions',modelA(test))\n",
    "    test_output2 = np.save('../results/model_2_predictions',modelB(test))\n",
    "    test_output3 = np.save('../results/model_3_predictions',modelC(test))"
   ]
  }
 ],
 "metadata": {
  "kernelspec": {
   "display_name": ".venv",
   "language": "python",
   "name": "python3"
  },
  "language_info": {
   "codemirror_mode": {
    "name": "ipython",
    "version": 3
   },
   "file_extension": ".py",
   "mimetype": "text/x-python",
   "name": "python",
   "nbconvert_exporter": "python",
   "pygments_lexer": "ipython3",
   "version": "3.9.13"
  }
 },
 "nbformat": 4,
 "nbformat_minor": 2
}
